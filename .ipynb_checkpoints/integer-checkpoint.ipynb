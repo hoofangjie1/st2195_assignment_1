{
 "cells": [
  {
   "cell_type": "markdown",
   "id": "60441f29-7c4d-4435-a663-9e33a88a7750",
   "metadata": {},
   "source": [
    "This is a R markdown file with an intro for git push."
   ]
  },
  {
   "cell_type": "code",
   "execution_count": 2,
   "id": "2adaac92-7bbc-42ed-9e44-179e7a382e87",
   "metadata": {},
   "outputs": [
    {
     "name": "stdout",
     "output_type": "stream",
     "text": [
      "1\n",
      "2\n",
      "3\n",
      "4\n",
      "5\n",
      "6\n",
      "7\n",
      "8\n",
      "9\n"
     ]
    }
   ],
   "source": [
    "for i in range(1,10):\n",
    "    print(i)"
   ]
  },
  {
   "cell_type": "code",
   "execution_count": null,
   "id": "5bafa99c-f986-40f8-9d96-4897f7135945",
   "metadata": {},
   "outputs": [],
   "source": []
  }
 ],
 "metadata": {
  "kernelspec": {
   "display_name": "Python [conda env:base] *",
   "language": "python",
   "name": "conda-base-py"
  },
  "language_info": {
   "codemirror_mode": {
    "name": "ipython",
    "version": 3
   },
   "file_extension": ".py",
   "mimetype": "text/x-python",
   "name": "python",
   "nbconvert_exporter": "python",
   "pygments_lexer": "ipython3",
   "version": "3.13.5"
  }
 },
 "nbformat": 4,
 "nbformat_minor": 5
}
